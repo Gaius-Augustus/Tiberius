{
 "cells": [
  {
   "cell_type": "code",
   "execution_count": 1,
   "id": "bef19bf0-3e0b-4ceb-9b88-733f31877f07",
   "metadata": {
    "tags": []
   },
   "outputs": [
    {
     "name": "stderr",
     "output_type": "stream",
     "text": [
      "2024-07-20 08:13:08.768505: I tensorflow/core/platform/cpu_feature_guard.cc:193] This TensorFlow binary is optimized with oneAPI Deep Neural Network Library (oneDNN) to use the following CPU instructions in performance-critical operations:  AVX2 AVX512F AVX512_VNNI AVX512_BF16 FMA\n",
      "To enable them in other operations, rebuild TensorFlow with the appropriate compiler flags.\n",
      "2024-07-20 08:13:08.837031: I tensorflow/core/util/port.cc:104] oneDNN custom operations are on. You may see slightly different numerical results due to floating-point round-off errors from different computation orders. To turn them off, set the environment variable `TF_ENABLE_ONEDNN_OPTS=0`.\n",
      "2024-07-20 08:13:09.135135: W tensorflow/compiler/xla/stream_executor/platform/default/dso_loader.cc:64] Could not load dynamic library 'libnvinfer.so.7'; dlerror: libnvinfer.so.7: cannot open shared object file: No such file or directory; LD_LIBRARY_PATH: :/opt/conda/envs/cuda-11.2/lib\n",
      "2024-07-20 08:13:09.135305: W tensorflow/compiler/xla/stream_executor/platform/default/dso_loader.cc:64] Could not load dynamic library 'libnvinfer_plugin.so.7'; dlerror: libnvinfer_plugin.so.7: cannot open shared object file: No such file or directory; LD_LIBRARY_PATH: :/opt/conda/envs/cuda-11.2/lib\n",
      "2024-07-20 08:13:09.135312: W tensorflow/compiler/tf2tensorrt/utils/py_utils.cc:38] TF-TRT Warning: Cannot dlopen some TensorRT libraries. If you would like to use Nvidia GPU with TensorRT, please make sure the missing libraries mentioned above are installed properly.\n",
      "2024-07-20 08:13:09.802324: I tensorflow/compiler/xla/stream_executor/cuda/cuda_gpu_executor.cc:981] successful NUMA node read from SysFS had negative value (-1), but there must be at least one NUMA node, so returning NUMA node zero\n",
      "2024-07-20 08:13:09.807364: I tensorflow/compiler/xla/stream_executor/cuda/cuda_gpu_executor.cc:981] successful NUMA node read from SysFS had negative value (-1), but there must be at least one NUMA node, so returning NUMA node zero\n",
      "2024-07-20 08:13:09.807509: I tensorflow/compiler/xla/stream_executor/cuda/cuda_gpu_executor.cc:981] successful NUMA node read from SysFS had negative value (-1), but there must be at least one NUMA node, so returning NUMA node zero\n",
      "2024-07-20 08:13:09.807844: I tensorflow/core/platform/cpu_feature_guard.cc:193] This TensorFlow binary is optimized with oneAPI Deep Neural Network Library (oneDNN) to use the following CPU instructions in performance-critical operations:  AVX2 AVX512F AVX512_VNNI AVX512_BF16 FMA\n",
      "To enable them in other operations, rebuild TensorFlow with the appropriate compiler flags.\n",
      "2024-07-20 08:13:09.809049: I tensorflow/compiler/xla/stream_executor/cuda/cuda_gpu_executor.cc:981] successful NUMA node read from SysFS had negative value (-1), but there must be at least one NUMA node, so returning NUMA node zero\n",
      "2024-07-20 08:13:09.809203: I tensorflow/compiler/xla/stream_executor/cuda/cuda_gpu_executor.cc:981] successful NUMA node read from SysFS had negative value (-1), but there must be at least one NUMA node, so returning NUMA node zero\n",
      "2024-07-20 08:13:09.809332: I tensorflow/compiler/xla/stream_executor/cuda/cuda_gpu_executor.cc:981] successful NUMA node read from SysFS had negative value (-1), but there must be at least one NUMA node, so returning NUMA node zero\n",
      "2024-07-20 08:13:10.199331: I tensorflow/compiler/xla/stream_executor/cuda/cuda_gpu_executor.cc:981] successful NUMA node read from SysFS had negative value (-1), but there must be at least one NUMA node, so returning NUMA node zero\n",
      "2024-07-20 08:13:10.199526: I tensorflow/compiler/xla/stream_executor/cuda/cuda_gpu_executor.cc:981] successful NUMA node read from SysFS had negative value (-1), but there must be at least one NUMA node, so returning NUMA node zero\n",
      "2024-07-20 08:13:10.199655: I tensorflow/compiler/xla/stream_executor/cuda/cuda_gpu_executor.cc:981] successful NUMA node read from SysFS had negative value (-1), but there must be at least one NUMA node, so returning NUMA node zero\n",
      "2024-07-20 08:13:10.199779: I tensorflow/core/common_runtime/gpu/gpu_device.cc:1613] Created device /job:localhost/replica:0/task:0/device:GPU:0 with 22118 MB memory:  -> device: 0, name: NVIDIA GeForce RTX 4090, pci bus id: 0000:01:00.0, compute capability: 8.9\n",
      "/home/jovyan/.local/lib/python3.10/site-packages/tqdm/auto.py:21: TqdmWarning: IProgress not found. Please update jupyter and ipywidgets. See https://ipywidgets.readthedocs.io/en/stable/user_install.html\n",
      "  from .autonotebook import tqdm as notebook_tqdm\n"
     ]
    }
   ],
   "source": [
    "# set this path to learnMSA \n",
    "learn_msa_path = \"../../learnMSA\"\n",
    "\n",
    "# !pip install tensorflow==2.10.1\n",
    "# !pip install tensorflow_probability==0.18.0\n",
    "# !pip install transformers\n",
    "import sys, os\n",
    "\n",
    "# os.environ[\"CUDA_VISIBLE_DEVICES\"] = \"\"\n",
    "sys.path.append(learn_msa_path) \n",
    "sys.path.append(\"../../bin\")\n",
    "import numpy as np\n",
    "import tensorflow as tf\n",
    "from tensorflow.keras.optimizers import Adam\n",
    "import tensorflow.keras as keras\n",
    "from eval_model_class import PredictionGTF\n",
    "from models import lstm_model"
   ]
  },
  {
   "cell_type": "code",
   "execution_count": 2,
   "id": "c6a6abab-e617-45da-a32a-84ae0494a484",
   "metadata": {
    "tags": []
   },
   "outputs": [],
   "source": [
    "batch_size = 2\n",
    "seq_len = 500004\n",
    "strand = '+'\n",
    "\n",
    "emb = False\n",
    "hmm_factor = 1\n",
    "hmm_parallel = 817\n",
    "trans_lstm = False\n",
    "\n",
    "inp_data_dir = 'inp/'\n",
    "out_dir = 'test_train/'\n",
    "if not os.path.exists(out_dir):\n",
    "    os.mkdir(out_dir)\n",
    "\n",
    "model_path = \"../../weights/tiberius_weights\"\n",
    "genome_path = f'{inp_data_dir}/genome.fa'\n",
    "# output gtf file\n",
    "gtf_out = 'tiberius.py'\n",
    "\n",
    "pred_gtf = PredictionGTF( \n",
    "    model_path=model_path,\n",
    "     seq_len=seq_len, \n",
    "    batch_size=batch_size,\n",
    "    hmm=True, \n",
    "    emb=False, \n",
    "    num_hmm=1,\n",
    "    hmm_factor=1,\n",
    "    genome_path=genome_path,\n",
    "    softmask=True, strand=strand,\n",
    "    parallel_factor=hmm_parallel\n",
    ")"
   ]
  },
  {
   "cell_type": "code",
   "execution_count": 3,
   "id": "6ebf06cc-df11-4c74-b25c-0dc0cb2e7439",
   "metadata": {
    "tags": []
   },
   "outputs": [
    {
     "name": "stdout",
     "output_type": "stream",
     "text": [
      "Running gene pred hmm layer with parallel factor 817\n",
      "Model: \"model_2\"\n",
      "__________________________________________________________________________________________________\n",
      " Layer (type)                   Output Shape         Param #     Connected to                     \n",
      "==================================================================================================\n",
      " main_input (InputLayer)        [(None, None, 6)]    0           []                               \n",
      "                                                                                                  \n",
      " initial_conv (Conv1D)          (None, None, 128)    2432        ['main_input[0][0]']             \n",
      "                                                                                                  \n",
      " layer_normalization1 (LayerNor  (None, None, 128)   256         ['initial_conv[0][0]']           \n",
      " malization)                                                                                      \n",
      "                                                                                                  \n",
      " conv_1 (Conv1D)                (None, None, 128)    147584      ['layer_normalization1[0][0]']   \n",
      "                                                                                                  \n",
      " layer_normalization2 (LayerNor  (None, None, 128)   256         ['conv_1[0][0]']                 \n",
      " malization)                                                                                      \n",
      "                                                                                                  \n",
      " conv_2 (Conv1D)                (None, None, 128)    147584      ['layer_normalization2[0][0]']   \n",
      "                                                                                                  \n",
      " tf.concat (TFOpLambda)         (None, None, 134)    0           ['main_input[0][0]',             \n",
      "                                                                  'conv_2[0][0]']                 \n",
      "                                                                                                  \n",
      " R1 (Reshape)                   (None, None, 1206)   0           ['tf.concat[0][0]']              \n",
      "                                                                                                  \n",
      " pre_lstm_dense (Dense)         (None, None, 744)    898008      ['R1[0][0]']                     \n",
      "                                                                                                  \n",
      " biLSTM_1 (Bidirectional)       (None, None, 744)    3324192     ['pre_lstm_dense[0][0]']         \n",
      "                                                                                                  \n",
      " biLSTM_2 (Bidirectional)       (None, None, 744)    3324192     ['biLSTM_1[0][0]']               \n",
      "                                                                                                  \n",
      " dense (Dense)                  (None, None, 270)    201150      ['biLSTM_2[0][0]']               \n",
      "                                                                                                  \n",
      " Reshape2 (Reshape)             (None, None, 30)     0           ['dense[0][0]']                  \n",
      "                                                                                                  \n",
      " tf.concat_1 (TFOpLambda)       (None, None, 158)    0           ['Reshape2[0][0]',               \n",
      "                                                                  'conv_2[0][0]']                 \n",
      "                                                                                                  \n",
      " out_dense (Dense)              (None, None, 15)     2385        ['tf.concat_1[0][0]']            \n",
      "                                                                                                  \n",
      " out (Activation)               (None, None, 15)     0           ['out_dense[0][0]']              \n",
      "                                                                                                  \n",
      " tf.__operators__.getitem (Slic  (None, None, 5)     0           ['main_input[0][0]']             \n",
      " ingOpLambda)                                                                                     \n",
      "                                                                                                  \n",
      " lstm_out (Lambda)              (None, None, 15)     0           ['out[0][0]']                    \n",
      "                                                                                                  \n",
      " tf.cast (TFOpLambda)           (None, None, 5)      0           ['tf.__operators__.getitem[0][0]'\n",
      "                                                                 ]                                \n",
      "                                                                                                  \n",
      " gene_pred_hmm_layer (GenePredH  (None, None, 15)    264         ['lstm_out[0][0]',               \n",
      " MMLayer)                                                         'tf.cast[0][0]']                \n",
      "                                                                                                  \n",
      "==================================================================================================\n",
      "Total params: 8,048,303\n",
      "Trainable params: 8,048,039\n",
      "Non-trainable params: 264\n",
      "__________________________________________________________________________________________________\n"
     ]
    }
   ],
   "source": [
    "# load model\n",
    "pred_gtf.load_model()\n",
    "\n",
    "# load input data x_seq \n",
    "x_seq, y_seq, coords = pred_gtf.load_inp_data(    \n",
    "    strand=strand, \n",
    "    chunk_coords=True, softmask=True\n",
    ")"
   ]
  },
  {
   "cell_type": "code",
   "execution_count": 4,
   "id": "29f75c8a-b021-4b48-a30b-c65ddc58e524",
   "metadata": {
    "tags": []
   },
   "outputs": [
    {
     "name": "stdout",
     "output_type": "stream",
     "text": [
      "### LSTM prediction\n"
     ]
    },
    {
     "name": "stderr",
     "output_type": "stream",
     "text": [
      "2024-07-20 08:13:17.082403: I tensorflow/compiler/xla/stream_executor/cuda/cuda_dnn.cc:428] Loaded cuDNN version 8100\n",
      "2024-07-20 08:13:17.554684: W tensorflow/compiler/xla/stream_executor/gpu/asm_compiler.cc:234] Falling back to the CUDA driver for PTX compilation; ptxas does not support CC 8.9\n",
      "2024-07-20 08:13:17.554710: W tensorflow/compiler/xla/stream_executor/gpu/asm_compiler.cc:237] Used ptxas at ptxas\n",
      "2024-07-20 08:13:17.554798: W tensorflow/compiler/xla/stream_executor/gpu/redzone_allocator.cc:318] UNIMPLEMENTED: ptxas ptxas too old. Falling back to the driver to compile.\n",
      "Relying on driver to perform ptx compilation. \n",
      "Modify $PATH to customize ptxas location.\n",
      "This message will be only logged once.\n",
      "2024-07-20 08:13:18.154053: I tensorflow/compiler/xla/stream_executor/cuda/cuda_blas.cc:630] TensorFloat-32 will be used for the matrix multiplication. This will only be logged once.\n"
     ]
    },
    {
     "name": "stdout",
     "output_type": "stream",
     "text": [
      "LSTM took 1.1954469641049703 minutes to execute.\n",
      "### HMM Viterbi\n",
      "HMM took 0.5480005145072937 minutes to execute.\n",
      "### LSTM prediction\n",
      "LSTM took 0.2399880290031433 minutes to execute.\n",
      "### HMM Viterbi\n",
      "HMM took 0.05577863454818725 minutes to execute.\n"
     ]
    },
    {
     "data": {
      "text/plain": [
       "(<genome_anno.Anno at 0x7f3c845e7df0>, 209)"
      ]
     },
     "execution_count": 4,
     "metadata": {},
     "output_type": "execute_result"
    }
   ],
   "source": [
    "# generate LSTM and HMM predictions\n",
    "hmm_pred = pred_gtf.get_predictions(x_seq, hmm_filter=True)\n",
    "\n",
    "# infer gene structures and write GTF file\n",
    "pred_gtf.create_gtf(y_label=hmm_pred, coords=coords,\n",
    "        out_file=gtf_out, f_chunks=x_seq, strand=strand)"
   ]
  },
  {
   "cell_type": "code",
   "execution_count": null,
   "id": "096720cc-5bd2-4412-afb2-5ca5d8ebf5ad",
   "metadata": {},
   "outputs": [],
   "source": []
  }
 ],
 "metadata": {
  "kernelspec": {
   "display_name": "Python 3 (ipykernel)",
   "language": "python",
   "name": "python3"
  },
  "language_info": {
   "codemirror_mode": {
    "name": "ipython",
    "version": 3
   },
   "file_extension": ".py",
   "mimetype": "text/x-python",
   "name": "python",
   "nbconvert_exporter": "python",
   "pygments_lexer": "ipython3",
   "version": "3.10.11"
  }
 },
 "nbformat": 4,
 "nbformat_minor": 5
}
