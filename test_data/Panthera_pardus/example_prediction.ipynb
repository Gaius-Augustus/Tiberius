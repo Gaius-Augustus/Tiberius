{
 "cells": [
  {
   "cell_type": "code",
   "execution_count": null,
   "id": "bef19bf0-3e0b-4ceb-9b88-733f31877f07",
   "metadata": {
    "tags": []
   },
   "outputs": [],
   "source": [
    "import sys, os, tarfile\n",
    "from tiberius.genome_anno import Anno\n",
    "import numpy as np\n",
    "import tensorflow as tf\n",
    "import tensorflow.keras as keras\n",
    "from tiberius.eval_model_class import PredictionGTF\n",
    "from Bio import SeqIO\n",
    "from Bio.Seq import Seq\n",
    "from tiberius.main import (assemble_transcript,\n",
    "                            check_in_frame_stop_codons,\n",
    "                            check_tf_version,\n",
    "                            download_weigths,\n",
    "                            extract_tar_gz,\n",
    "                            load_genome, compute_parallel_factor)"
   ]
  },
  {
   "cell_type": "code",
   "execution_count": null,
   "id": "c6a6abab-e617-45da-a32a-84ae0494a484",
   "metadata": {
    "tags": []
   },
   "outputs": [],
   "source": [
    "# download model weights\n",
    "# set model_path to a local model if you dont want to use the default model\n",
    "\n",
    "# set parameter\n",
    "batch_size = 2\n",
    "seq_len = 259992\n",
    "strand = '+'\n",
    "hmm_parallel = compute_parallel_factor(seq_len)\n",
    "model_path = \"../../model_weights/v2/tiberius_weights_v2\" #None\n",
    "\n",
    "# Download default model\n",
    "if check_tf_version(tf.__version__):\n",
    "    model_url = 'https://bioinf.uni-greifswald.de/bioinf/tiberius/models/tiberius_weights.tgz'\n",
    "else:\n",
    "    model_url = 'https://bioinf.uni-greifswald.de/bioinf/tiberius/models/tiberius_weights_tf2_17.keras'\n",
    "if not model_path:\n",
    "    model_weights_dir = f'../../model_weights'        \n",
    "    if not os.path.exists(model_weights_dir):\n",
    "        os.makedirs(model_weights_dir)\n",
    "    \n",
    "    model_file_name = model_url.split('/')[-1]\n",
    "    model_path = download_weigths(model_url, f'{model_weights_dir}/{model_file_name}')\n",
    "    if model_path and model_path[-3:] == 'tgz':\n",
    "        extract_tar_gz(f'{model_path}', f'{model_weights_dir}')\n",
    "        model_path = model_path[:-4]\n",
    "\n",
    "# extract test_data if necassary\n",
    "inp_data_dir = 'inp/'\n",
    "if not os.path.exists(inp_data_dir):\n",
    "    os.mkdir(inp_data_dir)  \n",
    "    with tarfile.open(\"inp.tar.gz\", \"r:gz\") as tar:\n",
    "        tar.extractall(path=inp_data_dir)\n",
    "\n",
    "out_dir = 'test_prediction/'\n",
    "if not os.path.exists(out_dir):\n",
    "    os.mkdir(out_dir)\n",
    "\n",
    "# input genome file\n",
    "genome_path = f'{inp_data_dir}/genome.fa'\n",
    "genome = load_genome(genome_path)\n",
    "# output gtf file\n",
    "\n",
    "# init PredictionGTF object\n",
    "pred_gtf = PredictionGTF( \n",
    "    model_path=model_path,\n",
    "    seq_len=seq_len, \n",
    "    batch_size=batch_size,\n",
    "    hmm=True, \n",
    "    temp_dir=None,\n",
    "    num_hmm=1,\n",
    "    hmm_factor=1,\n",
    "    genome=genome,\n",
    "    softmask=True, strand=strand,\n",
    "    parallel_factor=hmm_parallel\n",
    ")"
   ]
  },
  {
   "cell_type": "code",
   "execution_count": null,
   "id": "6ebf06cc-df11-4c74-b25c-0dc0cb2e7439",
   "metadata": {
    "tags": []
   },
   "outputs": [],
   "source": [
    "# load model\n",
    "pred_gtf.load_model()\n",
    "\n",
    "# load genome data\n",
    "genome_fasta = pred_gtf.init_fasta(chunk_len=seq_len, min_seq_len=500)\n",
    "x_data, coords, adapted_seqlen = pred_gtf.load_genome_data(genome_fasta, [],\n",
    "                                                softmask=True, strand=strand)"
   ]
  },
  {
   "cell_type": "code",
   "execution_count": null,
   "id": "29f75c8a-b021-4b48-a30b-c65ddc58e524",
   "metadata": {
    "tags": []
   },
   "outputs": [],
   "source": [
    "# generate LSTM and HMM predictions\n",
    "hmm_pred = pred_gtf.get_predictions(x_data, hmm_filter=True)\n",
    "\n",
    "# infer gene structures and write GTF file\n",
    "anno, tx_id = pred_gtf.create_gtf(y_label=hmm_pred, coords=coords,\n",
    "        out_file=f\"{out_dir}/tiberius.gtf\", f_chunks=x_data, strand=strand)"
   ]
  }
 ],
 "metadata": {
  "kernelspec": {
   "display_name": "Python 3 (ipykernel)",
   "language": "python",
   "name": "python3"
  },
  "language_info": {
   "codemirror_mode": {
    "name": "ipython",
    "version": 3
   },
   "file_extension": ".py",
   "mimetype": "text/x-python",
   "name": "python",
   "nbconvert_exporter": "python",
   "pygments_lexer": "ipython3",
   "version": "3.10.6"
  }
 },
 "nbformat": 4,
 "nbformat_minor": 5
}
