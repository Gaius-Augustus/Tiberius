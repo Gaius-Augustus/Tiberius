{
 "cells": [
  {
   "cell_type": "code",
   "execution_count": null,
   "id": "bef19bf0-3e0b-4ceb-9b88-733f31877f07",
   "metadata": {
    "tags": []
   },
   "outputs": [],
   "source": [
    "import sys, os\n",
    "# ADD PATH TO LEARN MSA HERE (if not installed with pip)\n",
    "learn_msa_path = ''\n",
    "sys.path.insert(0, learn_msa_path)\n",
    "\n",
    "sys.path.append(\"../../bin\")    \n",
    "from genome_anno import Anno\n",
    "import numpy as np\n",
    "import tensorflow as tf\n",
    "import tensorflow.keras as keras\n",
    "from eval_model_class import PredictionGTF\n",
    "from Bio import SeqIO\n",
    "from Bio.Seq import Seq\n",
    "from tiberius import assemble_transcript, check_in_frame_stop_codons"
   ]
  },
  {
   "cell_type": "code",
   "execution_count": null,
   "id": "c6a6abab-e617-45da-a32a-84ae0494a484",
   "metadata": {
    "tags": []
   },
   "outputs": [],
   "source": [
    "# CHANGE MODEL PATH IF NEEDED\n",
    "model_path = \"../../model_weights/tiberius_weights\"\n",
    "model_path = \"../../../test/Tiberius/model_weights/tiberius_weights_tf2_17.keras\"\n",
    "batch_size = 2\n",
    "seq_len = 500004\n",
    "strand = '+'\n",
    "\n",
    "emb = False\n",
    "hmm_parallel = 817\n",
    "trans_lstm = False\n",
    "\n",
    "inp_data_dir = 'inp/'\n",
    "out_dir = 'test_train/'\n",
    "if not os.path.exists(out_dir):\n",
    "    os.mkdir(out_dir)\n",
    "\n",
    "genome_path = f'{inp_data_dir}/genome.fa'\n",
    "# output gtf file\n",
    "gtf_out = 'tiberius.out'\n",
    "\n",
    "pred_gtf = PredictionGTF( \n",
    "    model_path=model_path,\n",
    "     seq_len=seq_len, \n",
    "    batch_size=batch_size,\n",
    "    hmm=True, \n",
    "    emb=False, \n",
    "    num_hmm=1,\n",
    "    hmm_factor=1,\n",
    "    genome_path=genome_path,\n",
    "    softmask=True, strand=strand,\n",
    "    parallel_factor=hmm_parallel\n",
    ")"
   ]
  },
  {
   "cell_type": "code",
   "execution_count": null,
   "id": "6ebf06cc-df11-4c74-b25c-0dc0cb2e7439",
   "metadata": {
    "tags": []
   },
   "outputs": [],
   "source": [
    "# load model\n",
    "pred_gtf.load_model()\n",
    "\n",
    "# load input data x_seq \n",
    "x_seq, y_seq, coords = pred_gtf.load_inp_data(    \n",
    "    strand=strand, \n",
    "    chunk_coords=True, softmask=True\n",
    ")"
   ]
  },
  {
   "cell_type": "code",
   "execution_count": null,
   "id": "29f75c8a-b021-4b48-a30b-c65ddc58e524",
   "metadata": {
    "tags": []
   },
   "outputs": [],
   "source": [
    "# generate LSTM and HMM predictions\n",
    "hmm_pred = pred_gtf.get_predictions(x_seq, hmm_filter=True)\n",
    "\n",
    "# infer gene structures and write GTF file\n",
    "anno, tx_id = pred_gtf.create_gtf(y_label=hmm_pred, coords=coords,\n",
    "        out_file=gtf_out, f_chunks=x_seq, strand=strand)"
   ]
  },
  {
   "cell_type": "code",
   "execution_count": null,
   "id": "191b67de",
   "metadata": {},
   "outputs": [],
   "source": [
    "# Filter results and write to gtf\n",
    "gtf_out = 'tiberius.gtf'\n",
    "genome = SeqIO.to_dict(SeqIO.parse(genome_path, \"fasta\"))\n",
    "anno_outp = Anno('', f'anno')        \n",
    "out_tx = {}\n",
    "for tx_id, tx in anno.transcripts.items():\n",
    "    exons = tx.get_type_coords('CDS', frame=False)\n",
    "    filt=False\n",
    "\n",
    "    # filter out tx with inframe stop codons\n",
    "    coding_seq, prot_seq = assemble_transcript(exons, genome[tx.chr], tx.strand )\n",
    "    if not coding_seq or check_in_frame_stop_codons(prot_seq):\n",
    "        filt = True\n",
    "    # filter out transcripts with cds len shorter than args.filter_short\n",
    "    if not filt and tx.get_cds_len() < 201:\n",
    "        filt = True\n",
    "\n",
    "    if not filt:\n",
    "        out_tx[tx_id] = tx\n",
    "\n",
    "anno_outp.add_transcripts(out_tx, f'anno')\n",
    "anno_outp.norm_tx_format()\n",
    "anno_outp.find_genes()\n",
    "anno_outp.rename_tx_ids() \n",
    "anno_outp.write_anno(gtf_out)\n"
   ]
  }
 ],
 "metadata": {
  "kernelspec": {
   "display_name": "Python 3 (ipykernel)",
   "language": "python",
   "name": "python3"
  },
  "language_info": {
   "codemirror_mode": {
    "name": "ipython",
    "version": 3
   },
   "file_extension": ".py",
   "mimetype": "text/x-python",
   "name": "python",
   "nbconvert_exporter": "python",
   "pygments_lexer": "ipython3",
   "version": "3.10.6"
  }
 },
 "nbformat": 4,
 "nbformat_minor": 5
}
