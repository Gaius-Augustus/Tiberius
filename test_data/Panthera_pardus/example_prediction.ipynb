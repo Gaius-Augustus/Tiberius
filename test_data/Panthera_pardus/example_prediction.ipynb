{
 "cells": [
  {
   "cell_type": "code",
   "execution_count": 1,
   "id": "bef19bf0-3e0b-4ceb-9b88-733f31877f07",
   "metadata": {
    "tags": []
   },
   "outputs": [
    {
     "name": "stderr",
     "output_type": "stream",
     "text": [
      "2024-10-15 11:49:12.967451: E external/local_xla/xla/stream_executor/cuda/cuda_fft.cc:485] Unable to register cuFFT factory: Attempting to register factory for plugin cuFFT when one has already been registered\n",
      "2024-10-15 11:49:12.981065: E external/local_xla/xla/stream_executor/cuda/cuda_dnn.cc:8454] Unable to register cuDNN factory: Attempting to register factory for plugin cuDNN when one has already been registered\n",
      "2024-10-15 11:49:12.985139: E external/local_xla/xla/stream_executor/cuda/cuda_blas.cc:1452] Unable to register cuBLAS factory: Attempting to register factory for plugin cuBLAS when one has already been registered\n",
      "2024-10-15 11:49:12.995625: I tensorflow/core/platform/cpu_feature_guard.cc:210] This TensorFlow binary is optimized to use available CPU instructions in performance-critical operations.\n",
      "To enable the following instructions: AVX2 FMA, in other operations, rebuild TensorFlow with the appropriate compiler flags.\n",
      "2024-10-15 11:49:13.534143: W tensorflow/compiler/tf2tensorrt/utils/py_utils.cc:38] TF-TRT Warning: Could not find TensorRT\n",
      "WARNING: All log messages before absl::InitializeLog() is called are written to STDERR\n",
      "I0000 00:00:1728992954.245503  203435 cuda_executor.cc:1015] successful NUMA node read from SysFS had negative value (-1), but there must be at least one NUMA node, so returning NUMA node zero. See more at https://github.com/torvalds/linux/blob/v6.0/Documentation/ABI/testing/sysfs-bus-pci#L344-L355\n",
      "I0000 00:00:1728992954.618532  203435 cuda_executor.cc:1015] successful NUMA node read from SysFS had negative value (-1), but there must be at least one NUMA node, so returning NUMA node zero. See more at https://github.com/torvalds/linux/blob/v6.0/Documentation/ABI/testing/sysfs-bus-pci#L344-L355\n",
      "I0000 00:00:1728992954.618965  203435 cuda_executor.cc:1015] successful NUMA node read from SysFS had negative value (-1), but there must be at least one NUMA node, so returning NUMA node zero. See more at https://github.com/torvalds/linux/blob/v6.0/Documentation/ABI/testing/sysfs-bus-pci#L344-L355\n",
      "I0000 00:00:1728992954.622179  203435 cuda_executor.cc:1015] successful NUMA node read from SysFS had negative value (-1), but there must be at least one NUMA node, so returning NUMA node zero. See more at https://github.com/torvalds/linux/blob/v6.0/Documentation/ABI/testing/sysfs-bus-pci#L344-L355\n",
      "I0000 00:00:1728992954.622528  203435 cuda_executor.cc:1015] successful NUMA node read from SysFS had negative value (-1), but there must be at least one NUMA node, so returning NUMA node zero. See more at https://github.com/torvalds/linux/blob/v6.0/Documentation/ABI/testing/sysfs-bus-pci#L344-L355\n",
      "I0000 00:00:1728992954.622879  203435 cuda_executor.cc:1015] successful NUMA node read from SysFS had negative value (-1), but there must be at least one NUMA node, so returning NUMA node zero. See more at https://github.com/torvalds/linux/blob/v6.0/Documentation/ABI/testing/sysfs-bus-pci#L344-L355\n",
      "I0000 00:00:1728992954.719544  203435 cuda_executor.cc:1015] successful NUMA node read from SysFS had negative value (-1), but there must be at least one NUMA node, so returning NUMA node zero. See more at https://github.com/torvalds/linux/blob/v6.0/Documentation/ABI/testing/sysfs-bus-pci#L344-L355\n",
      "I0000 00:00:1728992954.719792  203435 cuda_executor.cc:1015] successful NUMA node read from SysFS had negative value (-1), but there must be at least one NUMA node, so returning NUMA node zero. See more at https://github.com/torvalds/linux/blob/v6.0/Documentation/ABI/testing/sysfs-bus-pci#L344-L355\n",
      "I0000 00:00:1728992954.719994  203435 cuda_executor.cc:1015] successful NUMA node read from SysFS had negative value (-1), but there must be at least one NUMA node, so returning NUMA node zero. See more at https://github.com/torvalds/linux/blob/v6.0/Documentation/ABI/testing/sysfs-bus-pci#L344-L355\n",
      "2024-10-15 11:49:14.721383: I tensorflow/core/common_runtime/gpu/gpu_device.cc:2021] Created device /job:localhost/replica:0/task:0/device:GPU:0 with 6821 MB memory:  -> device: 0, name: NVIDIA GeForce RTX 2070 SUPER, pci bus id: 0000:2c:00.0, compute capability: 7.5\n"
     ]
    }
   ],
   "source": [
    "import sys, os\n",
    "\n",
    "#temporary \n",
    "sys.path.append(\"../../../learnMSA\")\n",
    "\n",
    "# os.environ[\"CUDA_VISIBLE_DEVICES\"] = \"\"\n",
    "sys.path.append(\"../../bin\")\n",
    "import numpy as np\n",
    "import tensorflow as tf\n",
    "from tensorflow.keras.optimizers import Adam\n",
    "import tensorflow.keras as keras\n",
    "from eval_model_class import PredictionGTF\n",
    "from models import lstm_model"
   ]
  },
  {
   "cell_type": "code",
   "execution_count": 3,
   "id": "c6a6abab-e617-45da-a32a-84ae0494a484",
   "metadata": {
    "tags": []
   },
   "outputs": [],
   "source": [
    "batch_size = 2\n",
    "seq_len = 500004\n",
    "strand = '+'\n",
    "\n",
    "emb = False\n",
    "hmm_factor = 1\n",
    "hmm_parallel = 817\n",
    "trans_lstm = False\n",
    "\n",
    "inp_data_dir = 'inp/'\n",
    "out_dir = 'test_train/'\n",
    "if not os.path.exists(out_dir):\n",
    "    os.mkdir(out_dir)\n",
    "\n",
    "model_path = \"../../model_weights/tiberius_weights\"\n",
    "genome_path = f'{inp_data_dir}/genome.fa'\n",
    "# output gtf file\n",
    "gtf_out = 'tiberius.out'\n",
    "\n",
    "pred_gtf = PredictionGTF( \n",
    "    model_path=model_path,\n",
    "     seq_len=seq_len, \n",
    "    batch_size=batch_size,\n",
    "    hmm=True, \n",
    "    emb=False, \n",
    "    num_hmm=1,\n",
    "    hmm_factor=1,\n",
    "    genome_path=genome_path,\n",
    "    softmask=True, strand=strand,\n",
    "    parallel_factor=hmm_parallel\n",
    ")"
   ]
  },
  {
   "cell_type": "code",
   "execution_count": 4,
   "id": "6ebf06cc-df11-4c74-b25c-0dc0cb2e7439",
   "metadata": {
    "tags": []
   },
   "outputs": [
    {
     "ename": "ValueError",
     "evalue": "File format not supported: filepath=../../model_weights/tiberius_weights. Keras 3 only supports V3 `.keras` files and legacy H5 format files (`.h5` extension). Note that the legacy SavedModel format is not supported by `load_model()` in Keras 3. In order to reload a TensorFlow SavedModel as an inference-only layer in Keras 3, use `keras.layers.TFSMLayer(../../model_weights/tiberius_weights, call_endpoint='serving_default')` (note that your `call_endpoint` might have a different name).",
     "output_type": "error",
     "traceback": [
      "\u001b[0;31m---------------------------------------------------------------------------\u001b[0m",
      "\u001b[0;31mValueError\u001b[0m                                Traceback (most recent call last)",
      "Cell \u001b[0;32mIn[4], line 2\u001b[0m\n\u001b[1;32m      1\u001b[0m \u001b[39m# load model\u001b[39;00m\n\u001b[0;32m----> 2\u001b[0m pred_gtf\u001b[39m.\u001b[39;49mload_model()\n\u001b[1;32m      4\u001b[0m \u001b[39m# load input data x_seq \u001b[39;00m\n\u001b[1;32m      5\u001b[0m x_seq, y_seq, coords \u001b[39m=\u001b[39m pred_gtf\u001b[39m.\u001b[39mload_inp_data(    \n\u001b[1;32m      6\u001b[0m     strand\u001b[39m=\u001b[39mstrand, \n\u001b[1;32m      7\u001b[0m     chunk_coords\u001b[39m=\u001b[39m\u001b[39mTrue\u001b[39;00m, softmask\u001b[39m=\u001b[39m\u001b[39mTrue\u001b[39;00m\n\u001b[1;32m      8\u001b[0m )\n",
      "File \u001b[0;32m~/brain/Tiberius/test_data/Panthera_pardus/../../bin/eval_model_class.py:191\u001b[0m, in \u001b[0;36mPredictionGTF.load_model\u001b[0;34m(self, summary)\u001b[0m\n\u001b[1;32m    189\u001b[0m         \u001b[39mself\u001b[39m\u001b[39m.\u001b[39mgene_pred_hmm_layer\u001b[39m.\u001b[39mcell\u001b[39m.\u001b[39mrecurrent_init()\n\u001b[1;32m    190\u001b[0m \u001b[39mif\u001b[39;00m \u001b[39mTrue\u001b[39;00m:\n\u001b[0;32m--> 191\u001b[0m     \u001b[39mself\u001b[39m\u001b[39m.\u001b[39mmodel \u001b[39m=\u001b[39m keras\u001b[39m.\u001b[39;49mmodels\u001b[39m.\u001b[39;49mload_model(\u001b[39mself\u001b[39;49m\u001b[39m.\u001b[39;49mmodel_path, \n\u001b[1;32m    192\u001b[0m                             custom_objects\u001b[39m=\u001b[39;49m{\u001b[39m'\u001b[39;49m\u001b[39mcustom_cce_f1_loss\u001b[39;49m\u001b[39m'\u001b[39;49m: custom_cce_f1_loss(\u001b[39m2\u001b[39;49m, \u001b[39mself\u001b[39;49m\u001b[39m.\u001b[39;49mbatch_size),\n\u001b[1;32m    193\u001b[0m                                 \u001b[39m'\u001b[39;49m\u001b[39mloss_\u001b[39;49m\u001b[39m'\u001b[39;49m: custom_cce_f1_loss(\u001b[39m2\u001b[39;49m, \u001b[39mself\u001b[39;49m\u001b[39m.\u001b[39;49mbatch_size)})\n\u001b[1;32m    194\u001b[0m     \u001b[39mif\u001b[39;00m \u001b[39mself\u001b[39m\u001b[39m.\u001b[39mhmm:\n\u001b[1;32m    195\u001b[0m         \u001b[39mtry\u001b[39;00m:\n",
      "File \u001b[0;32m~/mambaforge/envs/tiberiusdev2/lib/python3.12/site-packages/keras/src/saving/saving_api.py:206\u001b[0m, in \u001b[0;36mload_model\u001b[0;34m(filepath, custom_objects, compile, safe_mode)\u001b[0m\n\u001b[1;32m    200\u001b[0m     \u001b[39mraise\u001b[39;00m \u001b[39mValueError\u001b[39;00m(\n\u001b[1;32m    201\u001b[0m         \u001b[39mf\u001b[39m\u001b[39m\"\u001b[39m\u001b[39mFile not found: filepath=\u001b[39m\u001b[39m{\u001b[39;00mfilepath\u001b[39m}\u001b[39;00m\u001b[39m. \u001b[39m\u001b[39m\"\u001b[39m\n\u001b[1;32m    202\u001b[0m         \u001b[39m\"\u001b[39m\u001b[39mPlease ensure the file is an accessible `.keras` \u001b[39m\u001b[39m\"\u001b[39m\n\u001b[1;32m    203\u001b[0m         \u001b[39m\"\u001b[39m\u001b[39mzip file.\u001b[39m\u001b[39m\"\u001b[39m\n\u001b[1;32m    204\u001b[0m     )\n\u001b[1;32m    205\u001b[0m \u001b[39melse\u001b[39;00m:\n\u001b[0;32m--> 206\u001b[0m     \u001b[39mraise\u001b[39;00m \u001b[39mValueError\u001b[39;00m(\n\u001b[1;32m    207\u001b[0m         \u001b[39mf\u001b[39m\u001b[39m\"\u001b[39m\u001b[39mFile format not supported: filepath=\u001b[39m\u001b[39m{\u001b[39;00mfilepath\u001b[39m}\u001b[39;00m\u001b[39m. \u001b[39m\u001b[39m\"\u001b[39m\n\u001b[1;32m    208\u001b[0m         \u001b[39m\"\u001b[39m\u001b[39mKeras 3 only supports V3 `.keras` files and \u001b[39m\u001b[39m\"\u001b[39m\n\u001b[1;32m    209\u001b[0m         \u001b[39m\"\u001b[39m\u001b[39mlegacy H5 format files (`.h5` extension). \u001b[39m\u001b[39m\"\u001b[39m\n\u001b[1;32m    210\u001b[0m         \u001b[39m\"\u001b[39m\u001b[39mNote that the legacy SavedModel format is not \u001b[39m\u001b[39m\"\u001b[39m\n\u001b[1;32m    211\u001b[0m         \u001b[39m\"\u001b[39m\u001b[39msupported by `load_model()` in Keras 3. In \u001b[39m\u001b[39m\"\u001b[39m\n\u001b[1;32m    212\u001b[0m         \u001b[39m\"\u001b[39m\u001b[39morder to reload a TensorFlow SavedModel as an \u001b[39m\u001b[39m\"\u001b[39m\n\u001b[1;32m    213\u001b[0m         \u001b[39m\"\u001b[39m\u001b[39minference-only layer in Keras 3, use \u001b[39m\u001b[39m\"\u001b[39m\n\u001b[1;32m    214\u001b[0m         \u001b[39m\"\u001b[39m\u001b[39m`keras.layers.TFSMLayer(\u001b[39m\u001b[39m\"\u001b[39m\n\u001b[1;32m    215\u001b[0m         \u001b[39mf\u001b[39m\u001b[39m\"\u001b[39m\u001b[39m{\u001b[39;00mfilepath\u001b[39m}\u001b[39;00m\u001b[39m, call_endpoint=\u001b[39m\u001b[39m'\u001b[39m\u001b[39mserving_default\u001b[39m\u001b[39m'\u001b[39m\u001b[39m)` \u001b[39m\u001b[39m\"\u001b[39m\n\u001b[1;32m    216\u001b[0m         \u001b[39m\"\u001b[39m\u001b[39m(note that your `call_endpoint` \u001b[39m\u001b[39m\"\u001b[39m\n\u001b[1;32m    217\u001b[0m         \u001b[39m\"\u001b[39m\u001b[39mmight have a different name).\u001b[39m\u001b[39m\"\u001b[39m\n\u001b[1;32m    218\u001b[0m     )\n",
      "\u001b[0;31mValueError\u001b[0m: File format not supported: filepath=../../model_weights/tiberius_weights. Keras 3 only supports V3 `.keras` files and legacy H5 format files (`.h5` extension). Note that the legacy SavedModel format is not supported by `load_model()` in Keras 3. In order to reload a TensorFlow SavedModel as an inference-only layer in Keras 3, use `keras.layers.TFSMLayer(../../model_weights/tiberius_weights, call_endpoint='serving_default')` (note that your `call_endpoint` might have a different name)."
     ]
    }
   ],
   "source": [
    "# load model\n",
    "pred_gtf.load_model()\n",
    "\n",
    "# load input data x_seq \n",
    "x_seq, y_seq, coords = pred_gtf.load_inp_data(    \n",
    "    strand=strand, \n",
    "    chunk_coords=True, softmask=True\n",
    ")"
   ]
  },
  {
   "cell_type": "code",
   "execution_count": 4,
   "id": "29f75c8a-b021-4b48-a30b-c65ddc58e524",
   "metadata": {
    "tags": []
   },
   "outputs": [
    {
     "name": "stdout",
     "output_type": "stream",
     "text": [
      "### LSTM prediction\n"
     ]
    },
    {
     "name": "stderr",
     "output_type": "stream",
     "text": [
      "2024-10-15 11:37:05.609978: I tensorflow/stream_executor/cuda/cuda_dnn.cc:384] Loaded cuDNN version 8800\n",
      "2024-10-15 11:37:06.077531: I tensorflow/core/platform/default/subprocess.cc:304] Start cannot spawn child process: No such file or directory\n",
      "2024-10-15 11:37:06.078199: I tensorflow/core/platform/default/subprocess.cc:304] Start cannot spawn child process: No such file or directory\n",
      "2024-10-15 11:37:06.078212: W tensorflow/stream_executor/gpu/asm_compiler.cc:80] Couldn't get ptxas version string: INTERNAL: Couldn't invoke ptxas --version\n",
      "2024-10-15 11:37:06.078903: I tensorflow/core/platform/default/subprocess.cc:304] Start cannot spawn child process: No such file or directory\n",
      "2024-10-15 11:37:06.078949: W tensorflow/stream_executor/gpu/redzone_allocator.cc:314] INTERNAL: Failed to launch ptxas\n",
      "Relying on driver to perform ptx compilation. \n",
      "Modify $PATH to customize ptxas location.\n",
      "This message will be only logged once.\n"
     ]
    },
    {
     "name": "stdout",
     "output_type": "stream",
     "text": [
      "LSTM took 1.8392102360725402 minutes to execute.\n",
      "### HMM Viterbi\n",
      "HMM took 0.5478992462158203 minutes to execute.\n",
      "### LSTM prediction\n",
      "LSTM took 0.28611326615015664 minutes to execute.\n",
      "### HMM Viterbi\n",
      "HMM took 0.05078897476196289 minutes to execute.\n"
     ]
    },
    {
     "data": {
      "text/plain": [
       "(<genome_anno.Anno at 0x7f6a70451de0>, 76)"
      ]
     },
     "execution_count": 4,
     "metadata": {},
     "output_type": "execute_result"
    }
   ],
   "source": [
    "# generate LSTM and HMM predictions\n",
    "hmm_pred = pred_gtf.get_predictions(x_seq, hmm_filter=True)\n",
    "\n",
    "# infer gene structures and write GTF file\n",
    "pred_gtf.create_gtf(y_label=hmm_pred, coords=coords,\n",
    "        out_file=gtf_out, f_chunks=x_seq, strand=strand)"
   ]
  }
 ],
 "metadata": {
  "kernelspec": {
   "display_name": "Python 3 (ipykernel)",
   "language": "python",
   "name": "python3"
  },
  "language_info": {
   "codemirror_mode": {
    "name": "ipython",
    "version": 3
   },
   "file_extension": ".py",
   "mimetype": "text/x-python",
   "name": "python",
   "nbconvert_exporter": "python",
   "pygments_lexer": "ipython3",
   "version": "3.12.7"
  }
 },
 "nbformat": 4,
 "nbformat_minor": 5
}
